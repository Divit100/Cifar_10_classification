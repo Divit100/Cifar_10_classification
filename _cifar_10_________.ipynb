{
  "nbformat": 4,
  "nbformat_minor": 0,
  "metadata": {
    "kernelspec": {
      "display_name": "Python 3",
      "language": "python",
      "name": "python3"
    },
    "language_info": {
      "codemirror_mode": {
        "name": "ipython",
        "version": 3
      },
      "file_extension": ".py",
      "mimetype": "text/x-python",
      "name": "python",
      "nbconvert_exporter": "python",
      "pygments_lexer": "ipython3",
      "version": "3.7.7"
    },
    "colab": {
      "name": "@@cifar_10_________.ipynb",
      "provenance": []
    }
  },
  "cells": [
    {
      "cell_type": "code",
      "metadata": {
        "id": "aQWPY-7A86fR",
        "colab_type": "code",
        "colab": {}
      },
      "source": [
        "import numpy as np\n",
        "import matplotlib.pyplot as plt\n",
        "%matplotlib inline\n",
        "import seaborn as sns\n",
        "import pandas as pd"
      ],
      "execution_count": null,
      "outputs": []
    },
    {
      "cell_type": "code",
      "metadata": {
        "id": "Xm923DsI86fW",
        "colab_type": "code",
        "colab": {}
      },
      "source": [
        "from tensorflow.keras.datasets import cifar10"
      ],
      "execution_count": null,
      "outputs": []
    },
    {
      "cell_type": "code",
      "metadata": {
        "id": "RENWe1V986fZ",
        "colab_type": "code",
        "colab": {}
      },
      "source": [
        "(X_train,y_train),(X_test,y_test)=cifar10.load_data()"
      ],
      "execution_count": null,
      "outputs": []
    },
    {
      "cell_type": "code",
      "metadata": {
        "id": "t0ynF6wH86fc",
        "colab_type": "code",
        "colab": {}
      },
      "source": [
        "from tensorflow.keras.utils import to_categorical"
      ],
      "execution_count": null,
      "outputs": []
    },
    {
      "cell_type": "code",
      "metadata": {
        "id": "QsO-16t086fg",
        "colab_type": "code",
        "colab": {}
      },
      "source": [
        "y_cat_train=to_categorical(y_train)\n",
        "y_cat_test=to_categorical(y_test)"
      ],
      "execution_count": null,
      "outputs": []
    },
    {
      "cell_type": "code",
      "metadata": {
        "id": "e61iuJ2486fm",
        "colab_type": "code",
        "colab": {}
      },
      "source": [
        "X_train=X_train/255\n",
        "X_test=X_test/255"
      ],
      "execution_count": null,
      "outputs": []
    },
    {
      "cell_type": "code",
      "metadata": {
        "id": "WQDOG3fP86fr",
        "colab_type": "code",
        "colab": {}
      },
      "source": [
        "from tensorflow.keras.models import Sequential \n",
        "from tensorflow.keras.layers import Dense,MaxPool2D,Conv2D,Flatten"
      ],
      "execution_count": null,
      "outputs": []
    },
    {
      "cell_type": "code",
      "metadata": {
        "id": "_vVhWEd686fw",
        "colab_type": "code",
        "colab": {},
        "outputId": "5d8bff11-fcd2-4498-d1e2-75a7fed21465"
      },
      "source": [
        "X_train.shape"
      ],
      "execution_count": null,
      "outputs": [
        {
          "output_type": "execute_result",
          "data": {
            "text/plain": [
              "(50000, 32, 32, 3)"
            ]
          },
          "metadata": {
            "tags": []
          },
          "execution_count": 33
        }
      ]
    },
    {
      "cell_type": "code",
      "metadata": {
        "id": "8Sj7HpAk86f1",
        "colab_type": "code",
        "colab": {}
      },
      "source": [
        "model=Sequential()\n",
        "\n",
        "\n",
        "model.add(Conv2D(filters=32,kernel_size=(4,4),input_shape=(32,32,3),activation='relu'))\n",
        "model.add(MaxPool2D((2,2)))\n",
        "\n",
        "model.add(Conv2D(filters=32,kernel_size=(4,4),input_shape=(32,32,3),activation='relu'))\n",
        "model.add(MaxPool2D((2,2)))\n",
        "\n",
        "model.add(Conv2D(filters=32,kernel_size=(4,4),input_shape=(32,32,3),activation='relu'))\n",
        "model.add(MaxPool2D((2,2)))\n",
        "\n",
        "model.add(Flatten())\n",
        "\n",
        "model.add(Dense(256,activation='relu'))\n",
        "\n",
        "model.add(Dense(10,activation='softmax'))\n",
        "\n",
        "model.compile(optimizer='adam',loss='categorical_crossentropy',metrics=['accuracy'])\n",
        "\n",
        "\n",
        "\n",
        "\n",
        "\n",
        "\n",
        "\n"
      ],
      "execution_count": null,
      "outputs": []
    },
    {
      "cell_type": "code",
      "metadata": {
        "id": "AQNqJTUG86f3",
        "colab_type": "code",
        "colab": {},
        "outputId": "a5711151-173f-4006-a081-fcdf46c9fc0b"
      },
      "source": [
        "model.summary()"
      ],
      "execution_count": null,
      "outputs": [
        {
          "output_type": "stream",
          "text": [
            "Model: \"sequential_2\"\n",
            "_________________________________________________________________\n",
            "Layer (type)                 Output Shape              Param #   \n",
            "=================================================================\n",
            "conv2d_4 (Conv2D)            (None, 29, 29, 32)        1568      \n",
            "_________________________________________________________________\n",
            "max_pooling2d_4 (MaxPooling2 (None, 14, 14, 32)        0         \n",
            "_________________________________________________________________\n",
            "conv2d_5 (Conv2D)            (None, 11, 11, 32)        16416     \n",
            "_________________________________________________________________\n",
            "max_pooling2d_5 (MaxPooling2 (None, 5, 5, 32)          0         \n",
            "_________________________________________________________________\n",
            "conv2d_6 (Conv2D)            (None, 2, 2, 32)          16416     \n",
            "_________________________________________________________________\n",
            "max_pooling2d_6 (MaxPooling2 (None, 1, 1, 32)          0         \n",
            "_________________________________________________________________\n",
            "flatten_1 (Flatten)          (None, 32)                0         \n",
            "_________________________________________________________________\n",
            "dense_2 (Dense)              (None, 256)               8448      \n",
            "_________________________________________________________________\n",
            "dense_3 (Dense)              (None, 10)                2570      \n",
            "=================================================================\n",
            "Total params: 45,418\n",
            "Trainable params: 45,418\n",
            "Non-trainable params: 0\n",
            "_________________________________________________________________\n"
          ],
          "name": "stdout"
        }
      ]
    },
    {
      "cell_type": "code",
      "metadata": {
        "id": "jLJUOzJv86f6",
        "colab_type": "code",
        "colab": {}
      },
      "source": [
        "from tensorflow.keras.callbacks import EarlyStopping"
      ],
      "execution_count": null,
      "outputs": []
    },
    {
      "cell_type": "code",
      "metadata": {
        "id": "bPlAfef186f8",
        "colab_type": "code",
        "colab": {}
      },
      "source": [
        "early_stop=EarlyStopping(monitor='val_loss',mode='min',patience=2)"
      ],
      "execution_count": null,
      "outputs": []
    },
    {
      "cell_type": "code",
      "metadata": {
        "id": "cMS3oJ5086f_",
        "colab_type": "code",
        "colab": {},
        "outputId": "ce970820-b998-47f5-c142-10821d443e0a"
      },
      "source": [
        "model.fit(X_train,y_cat_train,epochs=12,verbose=2,validation_data=(X_test,y_cat_test),callbacks=[early_stop])"
      ],
      "execution_count": null,
      "outputs": [
        {
          "output_type": "stream",
          "text": [
            "Train on 50000 samples, validate on 10000 samples\n",
            "Epoch 1/12\n",
            "50000/50000 - 61s - loss: 1.6655 - accuracy: 0.3835 - val_loss: 1.3989 - val_accuracy: 0.4944\n",
            "Epoch 2/12\n",
            "50000/50000 - 57s - loss: 1.3499 - accuracy: 0.5103 - val_loss: 1.3298 - val_accuracy: 0.5240\n",
            "Epoch 3/12\n",
            "50000/50000 - 53s - loss: 1.2423 - accuracy: 0.5533 - val_loss: 1.2881 - val_accuracy: 0.5354\n",
            "Epoch 4/12\n",
            "50000/50000 - 52s - loss: 1.1652 - accuracy: 0.5829 - val_loss: 1.1705 - val_accuracy: 0.5799\n",
            "Epoch 5/12\n",
            "50000/50000 - 53s - loss: 1.1143 - accuracy: 0.6029 - val_loss: 1.1425 - val_accuracy: 0.5929\n",
            "Epoch 6/12\n",
            "50000/50000 - 53s - loss: 1.0752 - accuracy: 0.6189 - val_loss: 1.0856 - val_accuracy: 0.6179\n",
            "Epoch 7/12\n",
            "50000/50000 - 53s - loss: 1.0374 - accuracy: 0.6316 - val_loss: 1.0996 - val_accuracy: 0.6178\n",
            "Epoch 8/12\n",
            "50000/50000 - 54s - loss: 1.0071 - accuracy: 0.6446 - val_loss: 1.0842 - val_accuracy: 0.6188\n",
            "Epoch 9/12\n",
            "50000/50000 - 57s - loss: 0.9817 - accuracy: 0.6534 - val_loss: 1.0541 - val_accuracy: 0.6253\n",
            "Epoch 10/12\n",
            "50000/50000 - 64s - loss: 0.9589 - accuracy: 0.6604 - val_loss: 1.0713 - val_accuracy: 0.6272\n",
            "Epoch 11/12\n",
            "50000/50000 - 61s - loss: 0.9335 - accuracy: 0.6713 - val_loss: 1.0382 - val_accuracy: 0.6493\n",
            "Epoch 12/12\n",
            "50000/50000 - 53s - loss: 0.9143 - accuracy: 0.6763 - val_loss: 1.0144 - val_accuracy: 0.6493\n"
          ],
          "name": "stdout"
        },
        {
          "output_type": "execute_result",
          "data": {
            "text/plain": [
              "<tensorflow.python.keras.callbacks.History at 0x2222eda6988>"
            ]
          },
          "metadata": {
            "tags": []
          },
          "execution_count": 40
        }
      ]
    },
    {
      "cell_type": "code",
      "metadata": {
        "id": "bXxXiZXs86gC",
        "colab_type": "code",
        "colab": {}
      },
      "source": [
        "metrics=pd.DataFrame(model.history.history)"
      ],
      "execution_count": null,
      "outputs": []
    },
    {
      "cell_type": "code",
      "metadata": {
        "id": "korYIGU986gE",
        "colab_type": "code",
        "colab": {},
        "outputId": "6250b41e-ddc6-4d87-8d2f-040bf5838b43"
      },
      "source": [
        "metrics"
      ],
      "execution_count": null,
      "outputs": [
        {
          "output_type": "execute_result",
          "data": {
            "text/html": [
              "<div>\n",
              "<style scoped>\n",
              "    .dataframe tbody tr th:only-of-type {\n",
              "        vertical-align: middle;\n",
              "    }\n",
              "\n",
              "    .dataframe tbody tr th {\n",
              "        vertical-align: top;\n",
              "    }\n",
              "\n",
              "    .dataframe thead th {\n",
              "        text-align: right;\n",
              "    }\n",
              "</style>\n",
              "<table border=\"1\" class=\"dataframe\">\n",
              "  <thead>\n",
              "    <tr style=\"text-align: right;\">\n",
              "      <th></th>\n",
              "      <th>loss</th>\n",
              "      <th>accuracy</th>\n",
              "      <th>val_loss</th>\n",
              "      <th>val_accuracy</th>\n",
              "    </tr>\n",
              "  </thead>\n",
              "  <tbody>\n",
              "    <tr>\n",
              "      <th>0</th>\n",
              "      <td>1.665505</td>\n",
              "      <td>0.38346</td>\n",
              "      <td>1.398904</td>\n",
              "      <td>0.4944</td>\n",
              "    </tr>\n",
              "    <tr>\n",
              "      <th>1</th>\n",
              "      <td>1.349888</td>\n",
              "      <td>0.51028</td>\n",
              "      <td>1.329775</td>\n",
              "      <td>0.5240</td>\n",
              "    </tr>\n",
              "    <tr>\n",
              "      <th>2</th>\n",
              "      <td>1.242317</td>\n",
              "      <td>0.55330</td>\n",
              "      <td>1.288069</td>\n",
              "      <td>0.5354</td>\n",
              "    </tr>\n",
              "    <tr>\n",
              "      <th>3</th>\n",
              "      <td>1.165231</td>\n",
              "      <td>0.58294</td>\n",
              "      <td>1.170525</td>\n",
              "      <td>0.5799</td>\n",
              "    </tr>\n",
              "    <tr>\n",
              "      <th>4</th>\n",
              "      <td>1.114294</td>\n",
              "      <td>0.60288</td>\n",
              "      <td>1.142508</td>\n",
              "      <td>0.5929</td>\n",
              "    </tr>\n",
              "    <tr>\n",
              "      <th>5</th>\n",
              "      <td>1.075175</td>\n",
              "      <td>0.61894</td>\n",
              "      <td>1.085645</td>\n",
              "      <td>0.6179</td>\n",
              "    </tr>\n",
              "    <tr>\n",
              "      <th>6</th>\n",
              "      <td>1.037384</td>\n",
              "      <td>0.63164</td>\n",
              "      <td>1.099570</td>\n",
              "      <td>0.6178</td>\n",
              "    </tr>\n",
              "    <tr>\n",
              "      <th>7</th>\n",
              "      <td>1.007148</td>\n",
              "      <td>0.64458</td>\n",
              "      <td>1.084204</td>\n",
              "      <td>0.6188</td>\n",
              "    </tr>\n",
              "    <tr>\n",
              "      <th>8</th>\n",
              "      <td>0.981667</td>\n",
              "      <td>0.65342</td>\n",
              "      <td>1.054106</td>\n",
              "      <td>0.6253</td>\n",
              "    </tr>\n",
              "    <tr>\n",
              "      <th>9</th>\n",
              "      <td>0.958883</td>\n",
              "      <td>0.66044</td>\n",
              "      <td>1.071343</td>\n",
              "      <td>0.6272</td>\n",
              "    </tr>\n",
              "    <tr>\n",
              "      <th>10</th>\n",
              "      <td>0.933547</td>\n",
              "      <td>0.67126</td>\n",
              "      <td>1.038223</td>\n",
              "      <td>0.6493</td>\n",
              "    </tr>\n",
              "    <tr>\n",
              "      <th>11</th>\n",
              "      <td>0.914293</td>\n",
              "      <td>0.67626</td>\n",
              "      <td>1.014395</td>\n",
              "      <td>0.6493</td>\n",
              "    </tr>\n",
              "  </tbody>\n",
              "</table>\n",
              "</div>"
            ],
            "text/plain": [
              "        loss  accuracy  val_loss  val_accuracy\n",
              "0   1.665505   0.38346  1.398904        0.4944\n",
              "1   1.349888   0.51028  1.329775        0.5240\n",
              "2   1.242317   0.55330  1.288069        0.5354\n",
              "3   1.165231   0.58294  1.170525        0.5799\n",
              "4   1.114294   0.60288  1.142508        0.5929\n",
              "5   1.075175   0.61894  1.085645        0.6179\n",
              "6   1.037384   0.63164  1.099570        0.6178\n",
              "7   1.007148   0.64458  1.084204        0.6188\n",
              "8   0.981667   0.65342  1.054106        0.6253\n",
              "9   0.958883   0.66044  1.071343        0.6272\n",
              "10  0.933547   0.67126  1.038223        0.6493\n",
              "11  0.914293   0.67626  1.014395        0.6493"
            ]
          },
          "metadata": {
            "tags": []
          },
          "execution_count": 44
        }
      ]
    },
    {
      "cell_type": "code",
      "metadata": {
        "id": "t-g5pnFc86gG",
        "colab_type": "code",
        "colab": {},
        "outputId": "92dbb205-c710-48f4-c9b7-5b6ccb0199c9"
      },
      "source": [
        "metrics[['accuracy','val_accuracy']].plot()"
      ],
      "execution_count": null,
      "outputs": [
        {
          "output_type": "execute_result",
          "data": {
            "text/plain": [
              "<matplotlib.axes._subplots.AxesSubplot at 0x221cb38cb08>"
            ]
          },
          "metadata": {
            "tags": []
          },
          "execution_count": 45
        },
        {
          "output_type": "display_data",
          "data": {
            "image/png": "[encoded data removed]",
            "text/plain": [
              "<Figure size 432x288 with 1 Axes>"
            ]
          },
          "metadata": {
            "tags": [],
            "needs_background": "light"
          }
        }
      ]
    },
    {
      "cell_type": "code",
      "metadata": {
        "id": "dZPfzHIQ86gJ",
        "colab_type": "code",
        "colab": {},
        "outputId": "8c6a86f2-60eb-42a4-d0ec-a7adac63051e"
      },
      "source": [
        "metrics[['loss','val_loss']].plot()"
      ],
      "execution_count": null,
      "outputs": [
        {
          "output_type": "execute_result",
          "data": {
            "text/plain": [
              "<matplotlib.axes._subplots.AxesSubplot at 0x221cc10f688>"
            ]
          },
          "metadata": {
            "tags": []
          },
          "execution_count": 48
        },
        {
          "output_type": "display_data",
          "data": {
            "image/png": "[encoded data removed]",
            "text/plain": [
              "<Figure size 432x288 with 1 Axes>"
            ]
          },
          "metadata": {
            "tags": [],
            "needs_background": "light"
          }
        }
      ]
    },
    {
      "cell_type": "code",
      "metadata": {
        "id": "K5JecIsu86gL",
        "colab_type": "code",
        "colab": {}
      },
      "source": [
        "from sklearn.metrics import classification_report,confusion_matrix\n"
      ],
      "execution_count": null,
      "outputs": []
    },
    {
      "cell_type": "code",
      "metadata": {
        "id": "yejdx7ox86gR",
        "colab_type": "code",
        "colab": {},
        "outputId": "b719d4d7-ecfa-4a47-dabd-a00cf69e64c3"
      },
      "source": [
        "predictions=model.predict_classes(X_test)\n",
        "predictions"
      ],
      "execution_count": null,
      "outputs": [
        {
          "output_type": "execute_result",
          "data": {
            "text/plain": [
              "array([3, 8, 8, ..., 5, 0, 7], dtype=int64)"
            ]
          },
          "metadata": {
            "tags": []
          },
          "execution_count": 52
        }
      ]
    },
    {
      "cell_type": "code",
      "metadata": {
        "id": "2yu3PHXQ86gV",
        "colab_type": "code",
        "colab": {},
        "outputId": "38f87cda-b6ab-4744-8275-ea88f742b1f9"
      },
      "source": [
        "print(classification_report(y_test,predictions))"
      ],
      "execution_count": null,
      "outputs": [
        {
          "output_type": "stream",
          "text": [
            "              precision    recall  f1-score   support\n",
            "\n",
            "           0       0.66      0.72      0.69      1000\n",
            "           1       0.78      0.78      0.78      1000\n",
            "           2       0.52      0.55      0.53      1000\n",
            "           3       0.51      0.43      0.47      1000\n",
            "           4       0.50      0.70      0.58      1000\n",
            "           5       0.64      0.43      0.52      1000\n",
            "           6       0.74      0.71      0.73      1000\n",
            "           7       0.71      0.65      0.68      1000\n",
            "           8       0.78      0.75      0.76      1000\n",
            "           9       0.70      0.78      0.74      1000\n",
            "\n",
            "    accuracy                           0.65     10000\n",
            "   macro avg       0.65      0.65      0.65     10000\n",
            "weighted avg       0.65      0.65      0.65     10000\n",
            "\n"
          ],
          "name": "stdout"
        }
      ]
    },
    {
      "cell_type": "code",
      "metadata": {
        "id": "Ro1gv10W86gY",
        "colab_type": "code",
        "colab": {},
        "outputId": "3cb0d50b-cb79-41a6-ceb3-ebedbcbe1c61"
      },
      "source": [
        "\n",
        "plt.figure(figsize=(12,10))\n",
        "sns.heatmap(confusion_matrix(y_test,predictions))"
      ],
      "execution_count": null,
      "outputs": [
        {
          "output_type": "execute_result",
          "data": {
            "text/plain": [
              "<matplotlib.axes._subplots.AxesSubplot at 0x221ce92ae88>"
            ]
          },
          "metadata": {
            "tags": []
          },
          "execution_count": 56
        },
        {
          "output_type": "display_data",
          "data": {
            "image/png": "[encoded data removed]",
            "text/plain": [
              "<Figure size 864x720 with 2 Axes>"
            ]
          },
          "metadata": {
            "tags": [],
            "needs_background": "light"
          }
        }
      ]
    },
    {
      "cell_type": "code",
      "metadata": {
        "id": "D_Kd2w9z86ga",
        "colab_type": "code",
        "colab": {},
        "outputId": "f866e0bf-238c-4aec-e5a5-1bd7cab27fbb"
      },
      "source": [
        "plt.imshow(X_test[10])"
      ],
      "execution_count": null,
      "outputs": [
        {
          "output_type": "execute_result",
          "data": {
            "text/plain": [
              "<matplotlib.image.AxesImage at 0x221cec7cfc8>"
            ]
          },
          "metadata": {
            "tags": []
          },
          "execution_count": 58
        },
        {
          "output_type": "display_data",
          "data": {
            "image/png": "[encoded data removed]",
            "text/plain": [
              "<Figure size 432x288 with 1 Axes>"
            ]
          },
          "metadata": {
            "tags": [],
            "needs_background": "light"
          }
        }
      ]
    },
    {
      "cell_type": "code",
      "metadata": {
        "id": "N6oD73i686gd",
        "colab_type": "code",
        "colab": {}
      },
      "source": [
        "X=X_test[10]"
      ],
      "execution_count": null,
      "outputs": []
    },
    {
      "cell_type": "code",
      "metadata": {
        "id": "OhXFTgTq86gg",
        "colab_type": "code",
        "colab": {},
        "outputId": "08c8422f-58ce-419c-8d21-adde25aea6d1"
      },
      "source": [
        "X.shape"
      ],
      "execution_count": null,
      "outputs": [
        {
          "output_type": "execute_result",
          "data": {
            "text/plain": [
              "(32, 32, 3)"
            ]
          },
          "metadata": {
            "tags": []
          },
          "execution_count": 61
        }
      ]
    },
    {
      "cell_type": "code",
      "metadata": {
        "id": "5CKdNvSc86gk",
        "colab_type": "code",
        "colab": {},
        "outputId": "3dae1dd9-9d00-4bde-b1f5-41ccd6719098"
      },
      "source": [
        "X=X.reshape(1,32,32,3)\n",
        "y_test[10]"
      ],
      "execution_count": null,
      "outputs": [
        {
          "output_type": "execute_result",
          "data": {
            "text/plain": [
              "array([0], dtype=uint8)"
            ]
          },
          "metadata": {
            "tags": []
          },
          "execution_count": 64
        }
      ]
    },
    {
      "cell_type": "code",
      "metadata": {
        "id": "KkY43isp86gm",
        "colab_type": "code",
        "colab": {},
        "outputId": "4b946f10-4d89-4f4c-bebf-04f9582f342e"
      },
      "source": [
        "model.predict_classes(X)"
      ],
      "execution_count": null,
      "outputs": [
        {
          "output_type": "execute_result",
          "data": {
            "text/plain": [
              "array([0], dtype=int64)"
            ]
          },
          "metadata": {
            "tags": []
          },
          "execution_count": 66
        }
      ]
    },
    {
      "cell_type": "code",
      "metadata": {
        "id": "NUye6pTx86go",
        "colab_type": "code",
        "colab": {}
      },
      "source": [
        ""
      ],
      "execution_count": null,
      "outputs": []
    }
  ]
}